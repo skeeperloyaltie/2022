{
 "cells": [
  {
   "cell_type": "markdown",
   "metadata": {},
   "source": [
    "### Description "
   ]
  },
  {
   "cell_type": "markdown",
   "metadata": {},
   "source": [
    "    # A python chatbot that uses django, numpy, mysql and pandas to elaborate more about a business structure. \n",
    "    # For this we are going to use a simple business model for our project"
   ]
  },
  {
   "cell_type": "markdown",
   "metadata": {},
   "source": [
    "    # []: Business Model: Medical Symptoms\n",
    "    # []: Language        Python\n",
    "    # []: Model functions: \n",
    "            - Tell user what the medical center is about\n",
    "            - explain if the user wants to know if there are certain diseases that can be treated by the medical center\n",
    "            - Types of drugs to be givn to some diseases\n",
    "            - Preventive methods to be taken on some diseases\n",
    "            - Close the chat -->"
   ]
  },
  {
   "cell_type": "markdown",
   "metadata": {},
   "source": [
    "### Import neccessary imports"
   ]
  },
  {
   "cell_type": "code",
   "execution_count": 55,
   "metadata": {},
   "outputs": [],
   "source": [
    "import numpy as np\n",
    "import matplotlib.pyplot as plt\n",
    "import pandas as pd\n",
    "from mpl_toolkits.mplot3d import Axes3D\n",
    "from sklearn.preprocessing import StandardScaler\n",
    "import django\n",
    "from sklearn.preprocessing import LabelEncoder\n",
    "from sklearn.model_selection import train_test_split\n",
    "from sklearn.tree import DecisionTreeClassifier\n",
    "from sklearn.tree import _tree"
   ]
  },
  {
   "cell_type": "markdown",
   "metadata": {},
   "source": [
    "### Read the datasets"
   ]
  },
  {
   "cell_type": "code",
   "execution_count": 56,
   "metadata": {},
   "outputs": [],
   "source": [
    "# Importing the dataset\n",
    "training_dataset = pd.read_csv('Training.csv')\n",
    "test_dataset = pd.read_csv('Testing.csv')\n",
    "df1 = pd.read_csv('Mental_Health_FAQ.csv')"
   ]
  },
  {
   "cell_type": "markdown",
   "metadata": {},
   "source": [
    "### Ask questions about the medical structure and other questions\n"
   ]
  },
  {
   "cell_type": "markdown",
   "metadata": {},
   "source": [
    "#### Classify the data using slicing and dicing"
   ]
  },
  {
   "cell_type": "code",
   "execution_count": 57,
   "metadata": {},
   "outputs": [],
   "source": [
    "X = df1.iloc[:, :-1].values\n",
    "y = df1.iloc[:, -1].values"
   ]
  },
  {
   "cell_type": "markdown",
   "metadata": {},
   "source": [
    "#### remove redundancy"
   ]
  },
  {
   "cell_type": "code",
   "execution_count": 58,
   "metadata": {},
   "outputs": [],
   "source": [
    "dimension = df1.groupby('Questions').size()"
   ]
  },
  {
   "cell_type": "markdown",
   "metadata": {},
   "source": [
    "### Classify the questionare as required"
   ]
  },
  {
   "cell_type": "markdown",
   "metadata": {},
   "source": [
    "#### Slice and Dice the datasets for the separate features for our prediction"
   ]
  },
  {
   "cell_type": "code",
   "execution_count": 59,
   "metadata": {},
   "outputs": [],
   "source": [
    "X = training_dataset.iloc[:, 0:132].values\n",
    "y = training_dataset.iloc[:, -1].values"
   ]
  },
  {
   "cell_type": "markdown",
   "metadata": {},
   "source": [
    "#### Remove redundancy using dimensionality reduction\n"
   ]
  },
  {
   "cell_type": "code",
   "execution_count": 60,
   "metadata": {},
   "outputs": [],
   "source": [
    "dimensionality_reduction = training_dataset.groupby(training_dataset['prognosis']).max()"
   ]
  },
  {
   "cell_type": "markdown",
   "metadata": {},
   "source": [
    "#### Encode the string values to integers"
   ]
  },
  {
   "cell_type": "code",
   "execution_count": 61,
   "metadata": {},
   "outputs": [],
   "source": [
    "labelencoder = LabelEncoder()\n",
    "y = labelencoder.fit_transform(y)"
   ]
  },
  {
   "cell_type": "markdown",
   "metadata": {},
   "source": [
    "### Splitting the dataset into training set and test set"
   ]
  },
  {
   "cell_type": "code",
   "execution_count": 62,
   "metadata": {},
   "outputs": [],
   "source": [
    "X_train, X_test, y_train, y_test = train_test_split(X, y, test_size = 0.25, random_state = 0)"
   ]
  },
  {
   "cell_type": "markdown",
   "metadata": {},
   "source": [
    "### Implementing the Decision Tree Classifier"
   ]
  },
  {
   "cell_type": "code",
   "execution_count": 63,
   "metadata": {},
   "outputs": [
    {
     "data": {
      "text/plain": [
       "DecisionTreeClassifier()"
      ]
     },
     "execution_count": 63,
     "metadata": {},
     "output_type": "execute_result"
    }
   ],
   "source": [
    "classifier = DecisionTreeClassifier()\n",
    "classifier.fit(X_train, y_train)"
   ]
  },
  {
   "cell_type": "markdown",
   "metadata": {},
   "source": [
    "### Saving the information of columns"
   ]
  },
  {
   "cell_type": "code",
   "execution_count": 64,
   "metadata": {},
   "outputs": [],
   "source": [
    "cols = training_dataset.columns\n",
    "cols = cols[:-1]"
   ]
  },
  {
   "cell_type": "markdown",
   "metadata": {},
   "source": [
    "### Checking the Important features"
   ]
  },
  {
   "cell_type": "code",
   "execution_count": 65,
   "metadata": {},
   "outputs": [],
   "source": [
    "importances = classifier.feature_importances_\n",
    "indices = np.argsort(importances)[::-1]\n",
    "features = cols"
   ]
  },
  {
   "cell_type": "markdown",
   "metadata": {},
   "source": [
    "## Implementing the Visual Tree"
   ]
  },
  {
   "cell_type": "markdown",
   "metadata": {},
   "source": [
    "### Method to simulate the working of a Chatbot by extracting and formulating questions"
   ]
  },
  {
   "cell_type": "markdown",
   "metadata": {},
   "source": [
    "### Questionare "
   ]
  },
  {
   "cell_type": "code",
   "execution_count": 66,
   "metadata": {},
   "outputs": [],
   "source": [
    "def execute_bot():\n",
    "    \n",
    "    print(\"Please reply with yes/Yes or no/No for the following symptoms\") \n",
    "    print()\n",
    "    def print_disease(node):\n",
    "        #print(node)\n",
    "        node = node[0]\n",
    "        #print(len(node))\n",
    "        val  = node.nonzero() \n",
    "        #print(val)\n",
    "        disease = labelencoder.inverse_transform(val[0])\n",
    "        return disease\n",
    "    def tree_to_code(tree, feature_names):\n",
    "        tree_ = tree.tree_\n",
    "        #print(tree_)\n",
    "        feature_name = [\n",
    "            feature_names[i] if i != _tree.TREE_UNDEFINED else \"undefined!\"\n",
    "            for i in tree_.feature\n",
    "        ]\n",
    "        #print(\"def tree({}):\".format(\", \".join(feature_names)))\n",
    "        symptoms_present = []\n",
    "        def recurse(node, depth):\n",
    "            indent = \"  \" * depth\n",
    "            if tree_.feature[node] != _tree.TREE_UNDEFINED:\n",
    "                name = feature_name[node]\n",
    "                threshold = tree_.threshold[node]\n",
    "                print(name + \" ?\")\n",
    "                ans = input()\n",
    "                ans = ans.lower()\n",
    "                if ans == 'yes':\n",
    "                    val = 1\n",
    "                    \n",
    "                else:\n",
    "                    val = 0\n",
    "                if  val <= threshold:\n",
    "                    recurse(tree_.children_left[node], depth + 1)\n",
    "                else:\n",
    "                    symptoms_present.append(name)\n",
    "                    recurse(tree_.children_right[node], depth + 1)\n",
    "            else:\n",
    "                present_disease = print_disease(tree_.value[node])\n",
    "                print( \"You may have \" +  present_disease )\n",
    "                red_cols = dimensionality_reduction.columns \n",
    "                symptoms_given = red_cols[dimensionality_reduction.loc[present_disease].values[0].nonzero()]\n",
    "                print()\n",
    "                print(\"symptoms present  \" + str(list(symptoms_present)))\n",
    "                print()\n",
    "                print(\"symptoms given \"  +  str(list(symptoms_given)) )  \n",
    "                confidence_level = (1.0*len(symptoms_present))/len(symptoms_given)\n",
    "                print()\n",
    "                print(\"confidence level is \" + str(confidence_level))\n",
    "    \n",
    "        recurse(0, 1)\n",
    "    \n",
    "    tree_to_code(classifier,cols)\n",
    "    \n",
    "# execute_bot()"
   ]
  },
  {
   "cell_type": "code",
   "execution_count": 67,
   "metadata": {},
   "outputs": [
    {
     "name": "stdout",
     "output_type": "stream",
     "text": [
      "Please reply with yes/Yes or no/No for the following symptoms\n",
      "\n",
      "def tree(itching, skin_rash, nodal_skin_eruptions, continuous_sneezing, shivering, chills, joint_pain, stomach_pain, acidity, ulcers_on_tongue, muscle_wasting, vomiting, burning_micturition, spotting_ urination, fatigue, weight_gain, anxiety, cold_hands_and_feets, mood_swings, weight_loss, restlessness, lethargy, patches_in_throat, irregular_sugar_level, cough, high_fever, sunken_eyes, breathlessness, sweating, dehydration, indigestion, headache, yellowish_skin, dark_urine, nausea, loss_of_appetite, pain_behind_the_eyes, back_pain, constipation, abdominal_pain, diarrhoea, mild_fever, yellow_urine, yellowing_of_eyes, acute_liver_failure, fluid_overload, swelling_of_stomach, swelled_lymph_nodes, malaise, blurred_and_distorted_vision, phlegm, throat_irritation, redness_of_eyes, sinus_pressure, runny_nose, congestion, chest_pain, weakness_in_limbs, fast_heart_rate, pain_during_bowel_movements, pain_in_anal_region, bloody_stool, irritation_in_anus, neck_pain, dizziness, cramps, bruising, obesity, swollen_legs, swollen_blood_vessels, puffy_face_and_eyes, enlarged_thyroid, brittle_nails, swollen_extremeties, excessive_hunger, extra_marital_contacts, drying_and_tingling_lips, slurred_speech, knee_pain, hip_joint_pain, muscle_weakness, stiff_neck, swelling_joints, movement_stiffness, spinning_movements, loss_of_balance, unsteadiness, weakness_of_one_body_side, loss_of_smell, bladder_discomfort, foul_smell_of urine, continuous_feel_of_urine, passage_of_gases, internal_itching, toxic_look_(typhos), depression, irritability, muscle_pain, altered_sensorium, red_spots_over_body, belly_pain, abnormal_menstruation, dischromic _patches, watering_from_eyes, increased_appetite, polyuria, family_history, mucoid_sputum, rusty_sputum, lack_of_concentration, visual_disturbances, receiving_blood_transfusion, receiving_unsterile_injections, coma, stomach_bleeding, distention_of_abdomen, history_of_alcohol_consumption, fluid_overload.1, blood_in_sputum, prominent_veins_on_calf, palpitations, painful_walking, pus_filled_pimples, blackheads, scurring, skin_peeling, silver_like_dusting, small_dents_in_nails, inflammatory_nails, blister, red_sore_around_nose, yellow_crust_ooze):\n",
      "slurred_speech ?\n",
      "\n",
      "['You may have Hypoglycemia']\n",
      "\n",
      "\n",
      "symptoms present  ['slurred_speech']\n",
      "\n",
      "symptoms given ['vomiting', 'fatigue', 'anxiety', 'sweating', 'headache', 'nausea', 'blurred_and_distorted_vision', 'excessive_hunger', 'drying_and_tingling_lips', 'slurred_speech', 'irritability', 'palpitations']\n",
      "\n",
      "confidence level is 0.08333333333333333\n",
      "Please reply with yes/Yes or no/No for the following symptoms\n",
      "\n",
      "slurred_speech ?\n",
      "['You may have Hypoglycemia']\n",
      "\n",
      "symptoms present  ['slurred_speech']\n",
      "\n",
      "symptoms given ['vomiting', 'fatigue', 'anxiety', 'sweating', 'headache', 'nausea', 'blurred_and_distorted_vision', 'excessive_hunger', 'drying_and_tingling_lips', 'slurred_speech', 'irritability', 'palpitations']\n",
      "\n",
      "confidence level is 0.08333333333333333\n"
     ]
    }
   ],
   "source": [
    "# create a menu that will ask the user to enter the symptoms and then print the disease and the confidence level\n",
    "def menu():\n",
    "    print(\"Please reply with yes/Yes or no/No for the following symptoms\") \n",
    "    print()\n",
    "    def print_disease(node):\n",
    "        #print(node)\n",
    "        node = node[0]\n",
    "        #print(len(node))\n",
    "        val  = node.nonzero() \n",
    "        #print(val)\n",
    "        disease = labelencoder.inverse_transform(val[0])\n",
    "        return disease\n",
    "    def tree_to_code(tree, feature_names):\n",
    "        tree_ = tree.tree_\n",
    "        #print(tree_)\n",
    "        feature_name = [\n",
    "            feature_names[i] if i != _tree.TREE_UNDEFINED else \"undefined!\" for i in tree_.feature ]\n",
    "        print(\"def tree({}):\".format(\", \".join(feature_names)))\n",
    "        \n",
    "        symptoms_present = []\n",
    "        def recurse(node, depth):\n",
    "            indent = \"  \" * depth\n",
    "            if tree_.feature[node] != _tree.TREE_UNDEFINED:\n",
    "                name = feature_name[node]\n",
    "                threshold = tree_.threshold[node]\n",
    "                print(name + \" ?\")\n",
    "                ans = input()\n",
    "                ans = ans.lower()\n",
    "                if ans == 'yes':\n",
    "                    val = 1\n",
    "                    \n",
    "                else:\n",
    "                    val = 0\n",
    "                if  val <= threshold:\n",
    "                    recurse(tree_.children_left[node], depth + 1)\n",
    "                else:\n",
    "                    symptoms_present.append(name)\n",
    "                    recurse(tree_.children_right[node], depth + 1)\n",
    "            else:\n",
    "                present_disease = print_disease(tree_.value[node])\n",
    "                print()\n",
    "                print( \"You may have \" +  present_disease )\n",
    "                print()\n",
    "                red_cols = dimensionality_reduction.columns \n",
    "                symptoms_given = red_cols[dimensionality_reduction.loc[present_disease].values[0].nonzero()]\n",
    "                print()\n",
    "                print(\"symptoms present  \" + str(list(symptoms_present)))\n",
    "                print()\n",
    "                print(\"symptoms given \"  +  str(list(symptoms_given)) )  \n",
    "                confidence_level = (1.0*len(symptoms_present))/len(symptoms_given)\n",
    "                print()\n",
    "                print(\"confidence level is \" + str(confidence_level))\n",
    "    \n",
    "        recurse(0, 1)\n",
    "        \n",
    "    tree_to_code(classifier,cols)\n",
    "    execute_bot()\n",
    "    \n",
    "    \n",
    "menu()\n"
   ]
  },
  {
   "cell_type": "code",
   "execution_count": null,
   "metadata": {},
   "outputs": [],
   "source": []
  }
 ],
 "metadata": {
  "interpreter": {
   "hash": "916dbcbb3f70747c44a77c7bcd40155683ae19c65e1c03b4aa3499c5328201f1"
  },
  "kernelspec": {
   "display_name": "Python 3 (ipykernel)",
   "language": "python",
   "name": "python3"
  },
  "language_info": {
   "codemirror_mode": {
    "name": "ipython",
    "version": 3
   },
   "file_extension": ".py",
   "mimetype": "text/x-python",
   "name": "python",
   "nbconvert_exporter": "python",
   "pygments_lexer": "ipython3",
   "version": "3.9.2"
  }
 },
 "nbformat": 4,
 "nbformat_minor": 2
}
