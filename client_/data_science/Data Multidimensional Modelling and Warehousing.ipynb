{
 "cells": [
  {
   "cell_type": "markdown",
   "metadata": {},
   "source": [
    "Authors: - <br>\n",
    "         - <br>\n",
    "         - <br>\n",
    "         - \n"
   ]
  },
  {
   "cell_type": "markdown",
   "metadata": {},
   "source": [
    "<center> <h3> Data Multidimensional Modelling and Warehousing. </h3></center>\n",
    "<center> <h4> Introduction </h4> </center>"
   ]
  },
  {
   "cell_type": "markdown",
   "metadata": {},
   "source": [
    "Data warehousing is the ability of a system to hold and analyze business conceptual data and design structures that will help a company get their data accurately and within the respective needs. Each company organizes a conceptual structure that needs to be articulated into certain designs. Most of the data designs that are archieved into the data warehouses concpetually are designed by the structure and transactions from either business structure or how organization achieves the structure of their data. Business structures mostly identify structural methods to articulate the way their data will be beneficial to them. Most of the actual conceptual designs structure their retrieved data in a time series so that they can analyze the data using various tools and methods to critically design a model to be used within the company. This decision helps structure a better performance of the company."
   ]
  },
  {
   "cell_type": "markdown",
   "metadata": {},
   "source": [
    "<h5> Warehouse Structure and architecture </h5>\n"
   ]
  },
  {
   "cell_type": "markdown",
   "metadata": {},
   "source": [
    "Most databases that counter the accessibility of a warehouse data center have various features. Among the various features, most of them are essential to structure competence and accuracy that can be determined depending on the way the data held is used. These instances are:<br>\n",
    "        - Volatility - Most of the data in the warehouse does not change once its stored there. At any instance the data saved is changed it requires a specific user's permissions to verify the change.  <br>\n",
    "        - Orientation of the data - Each data platform has a specific headline that stores a number of data structures and therefore, each compartment within the data storage has a certain accessibility feature for a certain type of data which conceptually means that the data itself needs a certain category of data.<br>\n",
    "Conceptually the data warehouse storage is designed to handle a multiple number of data categories and therefore each structure needs a different mechanism to improve security, non-volatility,  and intergration into application and other softwares embedded to the data."
   ]
  }
 ],
 "metadata": {
  "kernelspec": {
   "display_name": "Python 3.9.2 64-bit",
   "language": "python",
   "name": "python3"
  },
  "language_info": {
   "name": "python",
   "version": "3.9.2"
  },
  "orig_nbformat": 4,
  "vscode": {
   "interpreter": {
    "hash": "e7370f93d1d0cde622a1f8e1c04877d8463912d04d973331ad4851f04de6915a"
   }
  }
 },
 "nbformat": 4,
 "nbformat_minor": 2
}
