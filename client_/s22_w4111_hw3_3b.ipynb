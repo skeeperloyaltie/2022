{
 "cells": [
  {
   "cell_type": "markdown",
   "metadata": {},
   "source": [
    "</span>\n",
    "</center></b>\n",
    "</span><br>\n",
    "<p>\n",
    "<i><center>\n",
    "<span style=\"font-size: 20pt; line-height: 1.2\">\n",
    "Homework 3b: MongoDB and Neo4j<br>\n",
    "    Common Tasks\n",
    "</span>\n",
    "</center></i><br><br>"
   ]
  },
  {
   "cell_type": "markdown",
   "metadata": {},
   "source": [
    "# Overview"
   ]
  },
  {
   "cell_type": "markdown",
   "metadata": {},
   "source": [
    "- There are three parts to HW 3:\n",
    "    - ```3a```: Written questions\n",
    "    - ```3b:``` A set of common practical tasks.\n",
    "    - ```3c:``` Programming and Non-Programming track specific tasks.\n",
    "    \n",
    "    \n",
    "- This notebook explains part ```3b,``` which is a prerequisite for part ```3c.```\n",
    "\n",
    "\n",
    "- In this task, you will process files to load data into both Neo4j and MongoDB in the cloud.\n",
    "\n",
    "\n",
    "- This builds on the previous notebook's setup tasks that we published."
   ]
  },
  {
   "cell_type": "markdown",
   "metadata": {},
   "source": [
    "# Data Loading"
   ]
  },
  {
   "cell_type": "markdown",
   "metadata": {},
   "source": [
    "## Read Files"
   ]
  },
  {
   "cell_type": "markdown",
   "metadata": {},
   "source": [
    "- The project data a data directory. The directory contains JSON data.\n",
    "\n",
    "\n",
    "- The next few cells read the JSON information and load into Python lists."
   ]
  },
  {
   "cell_type": "code",
   "execution_count": 38,
   "metadata": {},
   "outputs": [],
   "source": [
    "import json"
   ]
  },
  {
   "cell_type": "code",
   "execution_count": 39,
   "metadata": {},
   "outputs": [],
   "source": [
    "def load_json(fn):\n",
    "    result = None\n",
    "    with open(fn, \"r\") as in_file:\n",
    "        result = json.load(in_file)\n",
    "    return result\n",
    "        "
   ]
  },
  {
   "cell_type": "code",
   "execution_count": 40,
   "metadata": {},
   "outputs": [],
   "source": [
    "characters = load_json(\"./data/characters.json\")"
   ]
  },
  {
   "cell_type": "code",
   "execution_count": 41,
   "metadata": {},
   "outputs": [
    {
     "data": {
      "text/plain": [
       "[{'characterName': 'Addam Marbrand',\n",
       "  'characterLink': '/character/ch0305333/',\n",
       "  'actorName': 'B.J. Hogg',\n",
       "  'actorLink': '/name/nm0389698/'},\n",
       " {'characterName': 'Aegon Targaryen',\n",
       "  'houseName': 'Targaryen',\n",
       "  'royal': True,\n",
       "  'parents': ['Elia Martell', 'Rhaegar Targaryen'],\n",
       "  'siblings': ['Rhaenys Targaryen', 'Jon Snow'],\n",
       "  'killedBy': ['Gregor Clegane']}]"
      ]
     },
     "execution_count": 41,
     "metadata": {},
     "output_type": "execute_result"
    }
   ],
   "source": [
    "characters[0:2]"
   ]
  },
  {
   "cell_type": "code",
   "execution_count": 42,
   "metadata": {},
   "outputs": [],
   "source": [
    "episodes = load_json(\"./data/episodes.json\")"
   ]
  },
  {
   "cell_type": "code",
   "execution_count": 43,
   "metadata": {},
   "outputs": [
    {
     "data": {
      "text/plain": [
       "[{'seasonNum': 1,\n",
       "  'episodeNum': 1,\n",
       "  'episodeTitle': 'Winter Is Coming',\n",
       "  'episodeLink': '/title/tt1480055/',\n",
       "  'episodeAirDate': '2011-04-17',\n",
       "  'episodeDescription': \"Jon Arryn, the Hand of the King, is dead. King Robert Baratheon plans to ask his oldest friend, Eddard Stark, to take Jon's place. Across the sea, Viserys Targaryen plans to wed his sister to a nomadic warlord in exchange for an army.\",\n",
       "  'openingSequenceLocations': [\"King's Landing\",\n",
       "   'Winterfell',\n",
       "   'The Wall',\n",
       "   'Pentos'],\n",
       "  'scenes': [{'sceneStart': '0:00:40',\n",
       "    'sceneEnd': '0:01:45',\n",
       "    'location': 'The Wall',\n",
       "    'subLocation': 'Castle Black',\n",
       "    'characters': [{'name': 'Gared'},\n",
       "     {'name': 'Waymar Royce'},\n",
       "     {'name': 'Will'}]},\n",
       "   {'sceneStart': '0:01:45',\n",
       "    'sceneEnd': '0:03:24',\n",
       "    'location': 'North of the Wall',\n",
       "    'subLocation': 'The Haunted Forest',\n",
       "    'characters': [{'name': 'Gared'},\n",
       "     {'name': 'Waymar Royce'},\n",
       "     {'name': 'Will'}]},\n",
       "   {'sceneStart': '0:03:24',\n",
       "    'sceneEnd': '0:03:31',\n",
       "    'location': 'North of the Wall',\n",
       "    'subLocation': 'The Haunted Forest',\n",
       "    'characters': [{'name': 'Will'},\n",
       "     {'name': 'Wight Wildling Girl', 'alive': False}]},\n",
       "   {'sceneStart': '0:03:31',\n",
       "    'sceneEnd': '0:03:38',\n",
       "    'location': 'North of the Wall',\n",
       "    'subLocation': 'The Haunted Forest',\n",
       "    'characters': [{'name': 'Will'}]},\n",
       "   {'sceneStart': '0:03:38',\n",
       "    'sceneEnd': '0:03:44',\n",
       "    'location': 'North of the Wall',\n",
       "    'subLocation': 'The Haunted Forest',\n",
       "    'characters': []},\n",
       "   {'sceneStart': '0:03:44',\n",
       "    'sceneEnd': '0:05:36',\n",
       "    'location': 'North of the Wall',\n",
       "    'subLocation': 'The Haunted Forest',\n",
       "    'characters': [{'name': 'Gared'},\n",
       "     {'name': 'Waymar Royce'},\n",
       "     {'name': 'Will'}]},\n",
       "   {'sceneStart': '0:05:36',\n",
       "    'sceneEnd': '0:05:41',\n",
       "    'location': 'North of the Wall',\n",
       "    'subLocation': 'The Haunted Forest',\n",
       "    'characters': [{'name': 'Will'}]},\n",
       "   {'sceneStart': '0:05:41',\n",
       "    'sceneEnd': '0:05:48',\n",
       "    'location': 'North of the Wall',\n",
       "    'subLocation': 'The Haunted Forest',\n",
       "    'characters': [{'name': 'Gared'}, {'name': 'Waymar Royce'}]},\n",
       "   {'sceneStart': '0:05:48',\n",
       "    'sceneEnd': '0:05:58',\n",
       "    'location': 'North of the Wall',\n",
       "    'subLocation': 'The Haunted Forest',\n",
       "    'characters': [{'name': 'Will'}]},\n",
       "   {'sceneStart': '0:05:58',\n",
       "    'sceneEnd': '0:06:21',\n",
       "    'location': 'North of the Wall',\n",
       "    'subLocation': 'The Haunted Forest',\n",
       "    'characters': [{'name': 'Gared'},\n",
       "     {'name': 'Waymar Royce',\n",
       "      'alive': False,\n",
       "      'mannerOfDeath': 'Back stab',\n",
       "      'killedBy': ['White Walker']},\n",
       "     {'name': 'White Walker'}]},\n",
       "   {'sceneStart': '0:06:21',\n",
       "    'sceneEnd': '0:06:39',\n",
       "    'location': 'North of the Wall',\n",
       "    'subLocation': 'The Haunted Forest',\n",
       "    'characters': [{'name': 'Will'}]},\n",
       "   {'sceneStart': '0:06:39',\n",
       "    'sceneEnd': '0:06:49',\n",
       "    'location': 'North of the Wall',\n",
       "    'subLocation': 'The Haunted Forest',\n",
       "    'characters': [{'name': 'Will'}, {'name': 'Wight Wildling Girl'}]},\n",
       "   {'sceneStart': '0:06:49',\n",
       "    'sceneEnd': '0:07:45',\n",
       "    'location': 'North of the Wall',\n",
       "    'subLocation': 'The Haunted Forest',\n",
       "    'characters': [{'name': 'Will'},\n",
       "     {'name': 'Gared',\n",
       "      'alive': False,\n",
       "      'mannerOfDeath': 'Decapitation',\n",
       "      'killedBy': ['White Walker']},\n",
       "     {'name': 'White Walker'}]},\n",
       "   {'sceneStart': '0:09:27',\n",
       "    'sceneEnd': '0:12:38',\n",
       "    'location': 'The North',\n",
       "    'subLocation': 'Winterfell',\n",
       "    'characters': [{'name': 'Will'},\n",
       "     {'name': 'Jon Snow'},\n",
       "     {'name': 'Bran Stark'},\n",
       "     {'name': 'Robb Stark'},\n",
       "     {'name': 'Eddard Stark'},\n",
       "     {'name': 'Catelyn Stark'},\n",
       "     {'name': 'Rickon Stark'},\n",
       "     {'name': 'Sansa Stark'},\n",
       "     {'name': 'Arya Stark'},\n",
       "     {'name': 'Theon Greyjoy'},\n",
       "     {'name': 'Rodrik Cassel'},\n",
       "     {'name': 'Septa Mordane'}]},\n",
       "   {'sceneStart': '0:12:38',\n",
       "    'sceneEnd': '0:15:41',\n",
       "    'location': 'The North',\n",
       "    'subLocation': 'Outside Winterfell',\n",
       "    'characters': [{'name': 'Will',\n",
       "      'alive': False,\n",
       "      'mannerOfDeath': 'Decapitation',\n",
       "      'killedBy': ['Eddard Stark']},\n",
       "     {'name': 'Eddard Stark', 'weapon': [{'action': 'has', 'name': 'Ice'}]},\n",
       "     {'name': 'Robb Stark'},\n",
       "     {'name': 'Theon Greyjoy'},\n",
       "     {'name': 'Bran Stark'},\n",
       "     {'name': 'Rodrik Cassel'},\n",
       "     {'name': 'Jory Cassel'},\n",
       "     {'name': 'Jon Snow'}]},\n",
       "   {'sceneStart': '0:15:41',\n",
       "    'sceneEnd': '0:18:44',\n",
       "    'location': 'The North',\n",
       "    'subLocation': 'Outside Winterfell',\n",
       "    'characters': [{'name': 'Jon Snow'},\n",
       "     {'name': 'Eddard Stark', 'weapon': [{'action': 'has', 'name': 'Ice'}]},\n",
       "     {'name': 'Theon Greyjoy'},\n",
       "     {'name': 'Bran Stark'},\n",
       "     {'name': 'Robb Stark'},\n",
       "     {'name': 'Rodrik Cassel'},\n",
       "     {'name': 'Jory Cassel'},\n",
       "     {'name': 'Grey Wind'},\n",
       "     {'name': 'Lady'},\n",
       "     {'name': 'Nymeria'},\n",
       "     {'name': 'Summer'},\n",
       "     {'name': 'Shaggydog'},\n",
       "     {'name': 'Ghost'}]},\n",
       "   {'sceneStart': '0:18:44',\n",
       "    'sceneEnd': '0:20:45',\n",
       "    'location': 'The Crownlands',\n",
       "    'subLocation': \"King's Landing\",\n",
       "    'characters': [{'name': 'Jon Arryn',\n",
       "      'alive': False,\n",
       "      'title': 'Hand',\n",
       "      'mannerOfDeath': 'Poison',\n",
       "      'killedBy': ['Lysa Arryn']},\n",
       "     {'name': 'Cersei Lannister'},\n",
       "     {'name': 'Jaime Lannister'}]},\n",
       "   {'sceneStart': '0:20:45',\n",
       "    'sceneEnd': '0:22:43',\n",
       "    'location': 'The North',\n",
       "    'subLocation': 'Winterfell',\n",
       "    'characters': [{'name': 'Catelyn Stark'},\n",
       "     {'name': 'Eddard Stark', 'weapon': [{'action': 'has', 'name': 'Ice'}]}]},\n",
       "   {'sceneStart': '0:22:43',\n",
       "    'sceneEnd': '0:23:09',\n",
       "    'location': 'The North',\n",
       "    'subLocation': 'Winterfell',\n",
       "    'characters': [{'name': 'Catelyn Stark'}, {'name': 'Maester Luwin'}]},\n",
       "   {'sceneStart': '0:23:09',\n",
       "    'sceneEnd': '0:23:39',\n",
       "    'location': 'The North',\n",
       "    'subLocation': 'Winterfell',\n",
       "    'characters': [{'name': 'Robb Stark'},\n",
       "     {'name': 'Theon Greyjoy'},\n",
       "     {'name': 'Jon Snow'}]},\n",
       "   {'sceneStart': '0:23:39',\n",
       "    'sceneEnd': '0:29:16',\n",
       "    'location': 'The North',\n",
       "    'subLocation': 'Winterfell',\n",
       "    'characters': [{'name': 'Bran Stark'},\n",
       "     {'name': 'Catelyn Stark'},\n",
       "     {'name': 'Maester Luwin'},\n",
       "     {'name': 'Summer'},\n",
       "     {'name': 'Arya Stark'},\n",
       "     {'name': 'Joffrey Baratheon',\n",
       "      'weapon': [{'action': 'has', 'name': \"Lion's Tooth\"}]},\n",
       "     {'name': 'Sandor Clegane'},\n",
       "     {'name': 'Rickon Stark'},\n",
       "     {'name': 'Eddard Stark'},\n",
       "     {'name': 'Sansa Stark'},\n",
       "     {'name': 'Theon Greyjoy'},\n",
       "     {'name': 'Jon Snow'},\n",
       "     {'name': 'Jory Cassel'},\n",
       "     {'name': 'Hodor'},\n",
       "     {'name': 'Rodrik Cassel'},\n",
       "     {'name': 'Robert Baratheon', 'title': 'King'},\n",
       "     {'name': 'Cersei Lannister'},\n",
       "     {'name': 'Jaime Lannister'},\n",
       "     {'name': 'Myrcella Baratheon'},\n",
       "     {'name': 'Tommen Baratheon'}]},\n",
       "   {'sceneStart': '0:29:16',\n",
       "    'sceneEnd': '0:30:47',\n",
       "    'location': 'The North',\n",
       "    'subLocation': 'Winterfell',\n",
       "    'characters': [{'name': 'Robert Baratheon', 'title': 'King'},\n",
       "     {'name': 'Eddard Stark'}]},\n",
       "   {'sceneStart': '0:30:47',\n",
       "    'sceneEnd': '0:32:57',\n",
       "    'location': 'The North',\n",
       "    'subLocation': 'Winterfell',\n",
       "    'characters': [{'name': 'Jaime Lannister'},\n",
       "     {'name': 'Tyrion Lannister',\n",
       "      'sex': {'with': ['Ros'], 'type': 'paid', 'when': 'present'}},\n",
       "     {'name': 'Ros',\n",
       "      'sex': {'with': ['Tyrion Lannister'],\n",
       "       'type': 'paid',\n",
       "       'when': 'present'}}]},\n",
       "   {'sceneStart': '0:32:57',\n",
       "    'sceneEnd': '0:33:45',\n",
       "    'location': 'The North',\n",
       "    'subLocation': 'Winterfell',\n",
       "    'characters': [{'name': 'Robert Baratheon', 'title': 'King'},\n",
       "     {'name': 'Eddard Stark'}]},\n",
       "   {'sceneStart': '0:33:45',\n",
       "    'sceneEnd': '0:36:17',\n",
       "    'location': 'Pentos',\n",
       "    'characters': [{'name': 'Daenerys Targaryen'},\n",
       "     {'name': 'Viserys Targaryen'}]},\n",
       "   {'sceneStart': '0:36:17',\n",
       "    'sceneEnd': '0:38:23',\n",
       "    'location': 'Pentos',\n",
       "    'characters': [{'name': 'Daenerys Targaryen'},\n",
       "     {'name': 'Viserys Targaryen'},\n",
       "     {'name': 'Illyrio Mopatis'},\n",
       "     {'name': 'Khal Drogo', 'title': 'Khal'},\n",
       "     {'name': 'Qotho'}]},\n",
       "   {'sceneStart': '0:38:23',\n",
       "    'sceneEnd': '0:40:05',\n",
       "    'location': 'Pentos',\n",
       "    'characters': [{'name': 'Viserys Targaryen'},\n",
       "     {'name': 'Illyrio Mopatis'},\n",
       "     {'name': 'Daenerys Targaryen'}]},\n",
       "   {'sceneStart': '0:40:05',\n",
       "    'sceneEnd': '0:40:56',\n",
       "    'location': 'The North',\n",
       "    'subLocation': 'Winterfell',\n",
       "    'characters': [{'name': 'Catelyn Stark'}, {'name': 'Sansa Stark'}]},\n",
       "   {'sceneStart': '0:40:56',\n",
       "    'sceneEnd': '0:41:19',\n",
       "    'location': 'The North',\n",
       "    'subLocation': 'Winterfell',\n",
       "    'characters': [{'name': 'Robert Baratheon', 'title': 'King'},\n",
       "     {'name': 'Catelyn Stark'},\n",
       "     {'name': 'Cersei Lannister'},\n",
       "     {'name': 'Rodrik Cassel'}]},\n",
       "   {'sceneStart': '0:41:19',\n",
       "    'sceneEnd': '0:44:14',\n",
       "    'location': 'The North',\n",
       "    'subLocation': 'Winterfell',\n",
       "    'characters': [{'name': 'Jon Snow'},\n",
       "     {'name': 'Benjen Stark'},\n",
       "     {'name': 'Tyrion Lannister'}]},\n",
       "   {'sceneStart': '0:44:14',\n",
       "    'sceneEnd': '0:47:28',\n",
       "    'location': 'The North',\n",
       "    'subLocation': 'Winterfell',\n",
       "    'characters': [{'name': 'Rodrik Cassel'},\n",
       "     {'name': 'Benjen Stark'},\n",
       "     {'name': 'Eddard Stark'},\n",
       "     {'name': 'Robb Stark'},\n",
       "     {'name': 'Robert Baratheon', 'title': 'King'},\n",
       "     {'name': 'Catelyn Stark'},\n",
       "     {'name': 'Cersei Lannister'},\n",
       "     {'name': 'Sansa Stark'},\n",
       "     {'name': 'Joffrey Baratheon'},\n",
       "     {'name': 'Jaime Lannister'},\n",
       "     {'name': 'Arya Stark'},\n",
       "     {'name': 'Theon Greyjoy'}]},\n",
       "   {'sceneStart': '0:47:28',\n",
       "    'sceneEnd': '0:50:29',\n",
       "    'location': 'The North',\n",
       "    'subLocation': 'Winterfell',\n",
       "    'characters': [{'name': 'Eddard Stark'},\n",
       "     {'name': 'Catelyn Stark'},\n",
       "     {'name': 'Maester Luwin'}]},\n",
       "   {'sceneStart': '0:50:29',\n",
       "    'sceneEnd': '0:56:05',\n",
       "    'location': 'Pentos',\n",
       "    'characters': [{'name': 'Khal Drogo',\n",
       "      'title': 'Khal',\n",
       "      'married': {'to': 'Daenerys Targaryen',\n",
       "       'when': 'present',\n",
       "       'type': 'arranged',\n",
       "       'consummated': True}},\n",
       "     {'name': 'Daenerys Targaryen',\n",
       "      'title': 'Khaleesi',\n",
       "      'married': {'to': 'Khal Drogo',\n",
       "       'when': 'present',\n",
       "       'type': 'arranged',\n",
       "       'consummated': True}},\n",
       "     {'name': 'Viserys Targaryen'},\n",
       "     {'name': 'Illyrio Mopatis'},\n",
       "     {'name': 'Qotho'},\n",
       "     {'name': 'Jorah Mormont'},\n",
       "     {'name': 'Drogon', 'born': False},\n",
       "     {'name': 'Rhaegal', 'born': False},\n",
       "     {'name': 'Viserion', 'born': False}]},\n",
       "   {'sceneStart': '0:56:05',\n",
       "    'sceneEnd': '0:57:48',\n",
       "    'location': 'Pentos',\n",
       "    'characters': [{'name': 'Khal Drogo',\n",
       "      'title': 'Khal',\n",
       "      'sex': {'with': ['Daenerys Targaryen'],\n",
       "       'when': 'present',\n",
       "       'type': 'rape'}},\n",
       "     {'name': 'Daenerys Targaryen',\n",
       "      'title': 'Khaleesi',\n",
       "      'sex': {'with': ['Khal Drogo'], 'when': 'present', 'type': 'rape'}}]},\n",
       "   {'sceneStart': '0:57:48',\n",
       "    'sceneEnd': '0:59:06',\n",
       "    'location': 'The North',\n",
       "    'subLocation': 'Winterfell',\n",
       "    'characters': [{'name': 'Tyrion Lannister'},\n",
       "     {'name': 'Sandor Clegane'},\n",
       "     {'name': 'Theon Greyjoy'},\n",
       "     {'name': 'Eddard Stark'},\n",
       "     {'name': 'Benjen Stark'},\n",
       "     {'name': 'Robb Stark'},\n",
       "     {'name': 'Robert Baratheon', 'title': 'King'},\n",
       "     {'name': 'Bran Stark'},\n",
       "     {'name': 'Summer'}]},\n",
       "   {'sceneStart': '0:59:06',\n",
       "    'sceneEnd': '1:00:57',\n",
       "    'location': 'The North',\n",
       "    'subLocation': 'Winterfell',\n",
       "    'characters': [{'name': 'Bran Stark'},\n",
       "     {'name': 'Summer'},\n",
       "     {'name': 'Jaime Lannister',\n",
       "      'sex': {'with': ['Cersei Lannister'],\n",
       "       'when': 'present',\n",
       "       'type': 'love'}},\n",
       "     {'name': 'Cersei Lannister',\n",
       "      'sex': {'with': ['Jaime Lannister'],\n",
       "       'when': 'present',\n",
       "       'type': 'love'}}]}]}]"
      ]
     },
     "execution_count": 43,
     "metadata": {},
     "output_type": "execute_result"
    }
   ],
   "source": [
    "episodes[0:1]"
   ]
  },
  {
   "cell_type": "code",
   "execution_count": 44,
   "metadata": {},
   "outputs": [],
   "source": [
    "locations = load_json(\"./data/locations.json\")"
   ]
  },
  {
   "cell_type": "code",
   "execution_count": 45,
   "metadata": {},
   "outputs": [
    {
     "data": {
      "text/plain": [
       "[{'location': 'North of the Wall',\n",
       "  'subLocation': ['The Lands of Always Winter',\n",
       "   'Cave Outside Wildling Camp',\n",
       "   'Wildling Camp',\n",
       "   'Frostfang Mountains',\n",
       "   'The Three-Eyed Raven',\n",
       "   'Outside the Three-Eyed Raven',\n",
       "   'Fist of the First Men',\n",
       "   'Wildlings March South',\n",
       "   'Nightswatch March South',\n",
       "   'Hardhome',\n",
       "   \"Craster's Keep\",\n",
       "   'The Haunted Forest',\n",
       "   'South to the Wall',\n",
       "   'Destroyed Cabin',\n",
       "   'Near Nightfort',\n",
       "   'The Wall']},\n",
       " {'location': 'The Wall',\n",
       "  'subLocation': ['Nightfort',\n",
       "   'Eastwatch',\n",
       "   'Top of the Wall',\n",
       "   'Castle Black',\n",
       "   'Outside Castle Black',\n",
       "   \"Mole's Town\",\n",
       "   'The Gift']}]"
      ]
     },
     "execution_count": 45,
     "metadata": {},
     "output_type": "execute_result"
    }
   ],
   "source": [
    "locations[0:2]"
   ]
  },
  {
   "cell_type": "code",
   "execution_count": 46,
   "metadata": {},
   "outputs": [],
   "source": [
    "characters_groups = load_json(\"./data/characters-groups.json\")"
   ]
  },
  {
   "cell_type": "code",
   "execution_count": 47,
   "metadata": {},
   "outputs": [
    {
     "data": {
      "text/plain": [
       "[{'name': 'Stark',\n",
       "  'characters': ['Arya Stark',\n",
       "   'Benjen Stark',\n",
       "   'Bran Stark',\n",
       "   'Catelyn Stark',\n",
       "   'Eddard Stark',\n",
       "   'Ghost',\n",
       "   'Grey Wind',\n",
       "   'Jon Snow',\n",
       "   'Lady',\n",
       "   'Nymeria',\n",
       "   'Rickon Stark',\n",
       "   'Robb Stark',\n",
       "   'Sansa Stark',\n",
       "   'Shaggydog',\n",
       "   'Summer']}]"
      ]
     },
     "execution_count": 47,
     "metadata": {},
     "output_type": "execute_result"
    }
   ],
   "source": [
    "characters_groups[0:1]"
   ]
  },
  {
   "cell_type": "markdown",
   "metadata": {},
   "source": [
    "## Assignment 1: Load MongoDB"
   ]
  },
  {
   "cell_type": "markdown",
   "metadata": {},
   "source": [
    "### Load Information"
   ]
  },
  {
   "cell_type": "markdown",
   "metadata": {},
   "source": [
    "- You must load the data into collections in MongoDB.\n",
    "\n",
    "\n",
    "- The following code uses the helper files from setup to get a connection to MongoDB."
   ]
  },
  {
   "cell_type": "code",
   "execution_count": 48,
   "metadata": {},
   "outputs": [],
   "source": [
    "import got_mongo"
   ]
  },
  {
   "cell_type": "code",
   "execution_count": 49,
   "metadata": {},
   "outputs": [],
   "source": [
    "client = got_mongo.get_client()"
   ]
  },
  {
   "cell_type": "markdown",
   "metadata": {},
   "source": [
    "- In the following cells, write Python code that loads the information into:\n",
    "    - Database: ```GoT```\n",
    "    - Collections: ```characters, episodes, locations, groups.```"
   ]
  },
  {
   "cell_type": "markdown",
   "metadata": {},
   "source": [
    "- Put your code to load in the cells below. Later, there are some tests."
   ]
  },
  {
   "cell_type": "code",
   "execution_count": 50,
   "metadata": {},
   "outputs": [
    {
     "data": {
      "text/plain": [
       "<pymongo.results.InsertManyResult at 0x7fda5a8d6d80>"
      ]
     },
     "execution_count": 50,
     "metadata": {},
     "output_type": "execute_result"
    }
   ],
   "source": [
    "# Load characters\n",
    "# Check connection\n",
    "client.server_info()\n",
    "\n",
    "# load characters\n",
    "characters_collection = client[\"got\"][\"characters\"]\n",
    "characters_collection.insert_many(characters)\n",
    "\n"
   ]
  },
  {
   "cell_type": "code",
   "execution_count": 51,
   "metadata": {},
   "outputs": [
    {
     "data": {
      "text/plain": [
       "<pymongo.results.InsertManyResult at 0x7fda7d3b0180>"
      ]
     },
     "execution_count": 51,
     "metadata": {},
     "output_type": "execute_result"
    }
   ],
   "source": [
    "# Load episodes\n",
    "episodes_collection = client[\"got\"][\"episodes\"]\n",
    "episodes_collection.insert_many(episodes)\n"
   ]
  },
  {
   "cell_type": "code",
   "execution_count": 52,
   "metadata": {},
   "outputs": [
    {
     "data": {
      "text/plain": [
       "<pymongo.results.InsertManyResult at 0x7fda784bfc80>"
      ]
     },
     "execution_count": 52,
     "metadata": {},
     "output_type": "execute_result"
    }
   ],
   "source": [
    "# Load locations\n",
    "locations_collection = client[\"got\"][\"locations\"]\n",
    "locations_collection.insert_many(locations)\n"
   ]
  },
  {
   "cell_type": "code",
   "execution_count": 53,
   "metadata": {},
   "outputs": [
    {
     "data": {
      "text/plain": [
       "<pymongo.results.InsertManyResult at 0x7fda5a9d9880>"
      ]
     },
     "execution_count": 53,
     "metadata": {},
     "output_type": "execute_result"
    }
   ],
   "source": [
    "# Load character groups.\n",
    "characters_groups_collection = client[\"got\"][\"characters_groups\"]\n",
    "characters_groups_collection.insert_many(characters_groups)\n"
   ]
  },
  {
   "cell_type": "markdown",
   "metadata": {},
   "source": [
    "### Interesting Tests"
   ]
  },
  {
   "cell_type": "markdown",
   "metadata": {},
   "source": [
    "- If you have loaded the data character, the following queries should produce interesting results."
   ]
  },
  {
   "cell_type": "markdown",
   "metadata": {},
   "source": [
    "#### Characters in Episodes"
   ]
  },
  {
   "cell_type": "code",
   "execution_count": 54,
   "metadata": {},
   "outputs": [],
   "source": [
    "client = got_mongo.get_client()"
   ]
  },
  {
   "cell_type": "code",
   "execution_count": 55,
   "metadata": {},
   "outputs": [],
   "source": [
    "def get_characters_per_episode(seasonNum, episodeNum):\n",
    "    client = got_mongo.get_client()\n",
    "    result = client['GoT']['episodes'].aggregate([\n",
    "        {\n",
    "            '$match': {\n",
    "                'episodeNum': seasonNum, \n",
    "                'seasonNum': episodeNum\n",
    "            }\n",
    "        }, {\n",
    "            '$project': {\n",
    "                'characters': '$scenes.characters'\n",
    "            }\n",
    "        }, {\n",
    "            '$unwind': {\n",
    "                'path': '$characters', \n",
    "                'preserveNullAndEmptyArrays': False\n",
    "            }\n",
    "        }, {\n",
    "            '$unwind': {\n",
    "                'path': '$characters', \n",
    "                'preserveNullAndEmptyArrays': False\n",
    "            }\n",
    "        }, {\n",
    "            '$project': {\n",
    "                'characterName': '$characters.name', \n",
    "                '_id': 0\n",
    "            }\n",
    "        }\n",
    "    ])\n",
    "    return result"
   ]
  },
  {
   "cell_type": "code",
   "execution_count": 56,
   "metadata": {},
   "outputs": [],
   "source": [
    "result = get_characters_per_episode(2, 1)\n",
    "result = list(result)"
   ]
  },
  {
   "cell_type": "code",
   "execution_count": 57,
   "metadata": {},
   "outputs": [
    {
     "data": {
      "text/plain": [
       "[]"
      ]
     },
     "execution_count": 57,
     "metadata": {},
     "output_type": "execute_result"
    }
   ],
   "source": [
    "result[0:2]"
   ]
  },
  {
   "cell_type": "code",
   "execution_count": 58,
   "metadata": {},
   "outputs": [],
   "source": [
    "result = [l['characterName'] for l in result]\n",
    "result = set(result)"
   ]
  },
  {
   "cell_type": "code",
   "execution_count": 59,
   "metadata": {},
   "outputs": [
    {
     "data": {
      "text/plain": [
       "set()"
      ]
     },
     "execution_count": 59,
     "metadata": {},
     "output_type": "execute_result"
    }
   ],
   "source": [
    "result"
   ]
  },
  {
   "cell_type": "markdown",
   "metadata": {},
   "source": [
    "#### Find All the Actors who Played a Character in a Group"
   ]
  },
  {
   "cell_type": "code",
   "execution_count": 60,
   "metadata": {},
   "outputs": [],
   "source": [
    "def get_actor_for_group(group_name):\n",
    "    client = got_mongo.get_client()\n",
    "\n",
    "    result = client['GoT']['groups'].aggregate([\n",
    "        {\n",
    "            '$match': {\n",
    "                \"name\": group_name\n",
    "            }\n",
    "        },\n",
    "        {\n",
    "            '$unwind': {\n",
    "                'path': '$characters', \n",
    "                'preserveNullAndEmptyArrays': True\n",
    "            }\n",
    "        }, {\n",
    "            '$project': {\n",
    "                'groupName': '$name', \n",
    "                'characterName': '$characters'\n",
    "            }\n",
    "        }, {\n",
    "            '$lookup': {\n",
    "                'from': 'characters', \n",
    "                'localField': 'characterName', \n",
    "                'foreignField': 'characterName', \n",
    "                'as': 'character'\n",
    "            }\n",
    "        }, {\n",
    "            '$unwind': {\n",
    "                'path': '$character'\n",
    "            }\n",
    "        }, {\n",
    "            '$project': {\n",
    "                'characterName': 1, \n",
    "                'groupName': 1, \n",
    "                'actorName': '$character.actorName', \n",
    "                'actorLink': {\n",
    "                    '$concat': [\n",
    "                        'https://www.imdb.com', '$character.actorLink'\n",
    "                    ]\n",
    "                }\n",
    "            }\n",
    "        }\n",
    "    ])\n",
    "    return result"
   ]
  },
  {
   "cell_type": "code",
   "execution_count": 61,
   "metadata": {},
   "outputs": [],
   "source": [
    "nights_watch_actors = get_actor_for_group(\"Night's Watch\")"
   ]
  },
  {
   "cell_type": "code",
   "execution_count": 62,
   "metadata": {},
   "outputs": [
    {
     "data": {
      "text/plain": [
       "[]"
      ]
     },
     "execution_count": 62,
     "metadata": {},
     "output_type": "execute_result"
    }
   ],
   "source": [
    "result = list(nights_watch_actors)\n",
    "result"
   ]
  },
  {
   "cell_type": "markdown",
   "metadata": {},
   "source": [
    "## Assignment 2: Load Neo4j"
   ]
  },
  {
   "cell_type": "markdown",
   "metadata": {},
   "source": [
    "### Load Data"
   ]
  },
  {
   "cell_type": "markdown",
   "metadata": {},
   "source": [
    "- You loaded information about characters and groups into MongoDB.\n",
    "\n",
    "\n",
    "- You also have to data loaded into a Python data structure from prior steps in this notebook."
   ]
  },
  {
   "cell_type": "code",
   "execution_count": 63,
   "metadata": {},
   "outputs": [
    {
     "data": {
      "text/plain": [
       "[{'name': 'Stark',\n",
       "  'characters': ['Arya Stark',\n",
       "   'Benjen Stark',\n",
       "   'Bran Stark',\n",
       "   'Catelyn Stark',\n",
       "   'Eddard Stark',\n",
       "   'Ghost',\n",
       "   'Grey Wind',\n",
       "   'Jon Snow',\n",
       "   'Lady',\n",
       "   'Nymeria',\n",
       "   'Rickon Stark',\n",
       "   'Robb Stark',\n",
       "   'Sansa Stark',\n",
       "   'Shaggydog',\n",
       "   'Summer'],\n",
       "  '_id': ObjectId('625fb314d2eb3587a9a271c9')},\n",
       " {'name': 'Targaryen',\n",
       "  'characters': ['Daenerys Targaryen',\n",
       "   'Drogon',\n",
       "   'Rhaegal',\n",
       "   'Viserion',\n",
       "   'Viserys Targaryen'],\n",
       "  '_id': ObjectId('625fb314d2eb3587a9a271ca')},\n",
       " {'name': 'Baratheon',\n",
       "  'characters': ['Joffrey Baratheon',\n",
       "   'Myrcella Baratheon',\n",
       "   'Renly Baratheon',\n",
       "   'Robert Baratheon',\n",
       "   'Selyse Baratheon',\n",
       "   'Shireen Baratheon',\n",
       "   'Stannis Baratheon',\n",
       "   'Tommen Baratheon',\n",
       "   'Gendry'],\n",
       "  '_id': ObjectId('625fb314d2eb3587a9a271cb')},\n",
       " {'name': 'Lannister',\n",
       "  'characters': ['Cersei Lannister',\n",
       "   'Jaime Lannister',\n",
       "   'Kevan Lannister',\n",
       "   'Lancel Lannister',\n",
       "   'Tyrion Lannister',\n",
       "   'Tywin Lannister'],\n",
       "  '_id': ObjectId('625fb314d2eb3587a9a271cc')},\n",
       " {'name': \"Night's Watch\",\n",
       "  'characters': ['Alliser Thorne',\n",
       "   'Eddison Tollett',\n",
       "   'Grenn',\n",
       "   'Jeor Mormont',\n",
       "   'Karl Tanner',\n",
       "   'Maester Aemon',\n",
       "   'Olly',\n",
       "   'Othell Yarwyck',\n",
       "   'Pypar',\n",
       "   'Qhorin Halfhand',\n",
       "   'Rast',\n",
       "   'Samwell Tarly',\n",
       "   'Yoren'],\n",
       "  '_id': ObjectId('625fb314d2eb3587a9a271cd')},\n",
       " {'name': 'Dothraki',\n",
       "  'characters': ['Doreah', 'Irri', 'Khal Drogo', 'Rakharo', 'Qhono'],\n",
       "  '_id': ObjectId('625fb314d2eb3587a9a271ce')},\n",
       " {'name': 'Greyjoy',\n",
       "  'characters': ['Balon Greyjoy',\n",
       "   'Euron Greyjoy',\n",
       "   'Theon Greyjoy',\n",
       "   'Yara Greyjoy'],\n",
       "  '_id': ObjectId('625fb314d2eb3587a9a271cf')},\n",
       " {'name': 'Tyrell',\n",
       "  'characters': ['Loras Tyrell',\n",
       "   'Mace Tyrell',\n",
       "   'Margaery Tyrell',\n",
       "   'Olenna Tyrell'],\n",
       "  '_id': ObjectId('625fb314d2eb3587a9a271d0')},\n",
       " {'name': 'Wildlings',\n",
       "  'characters': ['Baby Sam',\n",
       "   'Craster',\n",
       "   'Gilly',\n",
       "   'Mag the Mighty',\n",
       "   'Mance Rayder',\n",
       "   'Osha',\n",
       "   'Rattleshirt',\n",
       "   'Thenn Warg',\n",
       "   'Tormund Giantsbane',\n",
       "   'Wun Wun',\n",
       "   'Ygritte'],\n",
       "  '_id': ObjectId('625fb314d2eb3587a9a271d1')},\n",
       " {'name': 'Martell',\n",
       "  'characters': ['Doran Martell',\n",
       "   'Ellaria Sand',\n",
       "   'Nymeria Sand',\n",
       "   'Obara Sand',\n",
       "   'Oberyn Martell',\n",
       "   'Trystane Martell',\n",
       "   'Tyene Sand'],\n",
       "  '_id': ObjectId('625fb314d2eb3587a9a271d2')},\n",
       " {'name': 'Frey',\n",
       "  'characters': ['Black Walder Rivers', 'Lothar Frey', 'Walder Frey'],\n",
       "  '_id': ObjectId('625fb314d2eb3587a9a271d3')},\n",
       " {'name': 'Tully',\n",
       "  'characters': ['Brynden Tully', 'Edmure Tully'],\n",
       "  '_id': ObjectId('625fb314d2eb3587a9a271d4')},\n",
       " {'name': 'White Walkers',\n",
       "  'characters': ['Mag the Mighty Wight',\n",
       "   'The Night King',\n",
       "   'White Walker',\n",
       "   'Wight Wildling Girl',\n",
       "   'Wun Wun Wight'],\n",
       "  '_id': ObjectId('625fb314d2eb3587a9a271d5')},\n",
       " {'name': 'Include',\n",
       "  'characters': ['Archmaester Ebrose',\n",
       "   'Barristan Selmy',\n",
       "   'Beric Dondarrion',\n",
       "   'Brienne of Tarth',\n",
       "   'Bronn',\n",
       "   'Daario Naharis',\n",
       "   'Davos Seaworth',\n",
       "   'Gendry',\n",
       "   'Grand Maester Pycelle',\n",
       "   'Greatjon Umber',\n",
       "   'Gregor Clegane',\n",
       "   'Greizhen mo Ullhor',\n",
       "   'Grey Worm',\n",
       "   'Hallyne',\n",
       "   'High Sparrow',\n",
       "   'Hizdahr zo Loraq',\n",
       "   'Hodor',\n",
       "   'Hot Pie',\n",
       "   'Janos Slynt',\n",
       "   \"Jaqen H'ghar\",\n",
       "   'Jojen Reed',\n",
       "   'Jorah Mormont',\n",
       "   'Jory Cassel',\n",
       "   'Kraznys mo Nakloz',\n",
       "   'Lady Crane',\n",
       "   'Leaf',\n",
       "   'Locke',\n",
       "   'Lommy Greenhands',\n",
       "   'Lord Varys',\n",
       "   'Lyanna Mormont',\n",
       "   'Lysa Arryn',\n",
       "   'Maester Luwin',\n",
       "   'Matthos Seaworth',\n",
       "   'Meera Reed',\n",
       "   'Melisandre',\n",
       "   'Mirri Maz Duur',\n",
       "   'Missandei',\n",
       "   'Olyvar',\n",
       "   'Petyr Baelish',\n",
       "   'Podrick Payne',\n",
       "   'Prendahl na Ghezn',\n",
       "   'Pyat Pree',\n",
       "   'Qyburn',\n",
       "   'Ramsay Snow',\n",
       "   'Razdal mo Eraz',\n",
       "   'Rickard Karstark',\n",
       "   'Robin Arryn',\n",
       "   'Rodrik Cassel',\n",
       "   'Roose Bolton',\n",
       "   'Ros',\n",
       "   'Salladhor Saan',\n",
       "   'Sandor Clegane',\n",
       "   'Septa Mordane',\n",
       "   'Septa Unella',\n",
       "   'Shae',\n",
       "   'Silk King',\n",
       "   'Smalljon Umber',\n",
       "   'Syrio Forel',\n",
       "   'Talisa Maegyr',\n",
       "   'The Waif',\n",
       "   'Thoros of Myr',\n",
       "   'Three-Eyed Raven',\n",
       "   'Xaro Xhoan Daxos',\n",
       "   'Yezzan zo Qaggaz',\n",
       "   'Yohn Royce'],\n",
       "  '_id': ObjectId('625fb314d2eb3587a9a271d6')}]"
      ]
     },
     "execution_count": 63,
     "metadata": {},
     "output_type": "execute_result"
    }
   ],
   "source": [
    "characters_groups"
   ]
  },
  {
   "cell_type": "markdown",
   "metadata": {},
   "source": [
    "- Your task is to:\n",
    "    - Create a node in your Neo4j database for each group.\n",
    "    - Create a node in your Neo4j database for each character in a group. If a character is in multiple groups, you should only create the node once.\n",
    "    - Create a relationship ```MEMBER_OF``` from the character node to the group node for each member in the group.\n",
    "    \n",
    "    \n",
    "- The code below retests your ability to connect to Neo4j."
   ]
  },
  {
   "cell_type": "code",
   "execution_count": 64,
   "metadata": {},
   "outputs": [],
   "source": [
    "import got_test_neo"
   ]
  },
  {
   "cell_type": "code",
   "execution_count": 65,
   "metadata": {},
   "outputs": [],
   "source": [
    "g = got_test_neo.get_graph()"
   ]
  },
  {
   "cell_type": "code",
   "execution_count": 66,
   "metadata": {},
   "outputs": [
    {
     "name": "stdout",
     "output_type": "stream",
     "text": [
      "<class 'py2neo.cypher.Cursor'>\n"
     ]
    }
   ],
   "source": [
    "q = \"match (p:Person) where p.name=$name return p\"\n",
    "res = g.run_q(q, {\"name\": \"Tom Hanks\"})\n",
    "print(type(res))\n",
    "for r in res:\n",
    "    print(type(r))\n",
    "    print(r)\n",
    "    print(\"Labels = \", r['p'].labels)\n",
    "    print(\"Properties = \", dict(r['p']))"
   ]
  },
  {
   "cell_type": "markdown",
   "metadata": {},
   "source": [
    "- Use the cells below to load Neo4j.\n",
    "\n",
    "\n",
    "- In the next section, we will run some tests that will help you understand if you created the information correctly."
   ]
  },
  {
   "cell_type": "code",
   "execution_count": 67,
   "metadata": {},
   "outputs": [],
   "source": [
    "# Put your loading code here.\n",
    "# Looking at the code in got_test_neo.py may help you.\n",
    "#\n",
    "\n",
    "q = \"match (p:Person) where p.name=$name return p\"\n",
    "for r in g.run_q(q, {\"name\": \"Tom Hanks\"}):\n",
    "    print(type(r))\n",
    "    print(r)\n",
    "    for k, v in r.items():\n",
    "        print(k, v)\n",
    "        print(\"Labels = \", v.labels)\n",
    "        print(\"Properties = \", dict(v))"
   ]
  },
  {
   "cell_type": "markdown",
   "metadata": {},
   "source": [
    "### Test Load"
   ]
  },
  {
   "attachments": {
    "image.png": {
     "image/png": "[encoded data removed]"
    }
   },
   "cell_type": "markdown",
   "metadata": {},
   "source": [
    "- Running the following query in the query explorer for Neo4j should produce the following.\n",
    "\n",
    "```\n",
    "match (s:GoT_Character {character_name: \"Jon Snow\"})-[r:MEMBER_OF]->(g)\n",
    "    return s,r,g\n",
    "```\n",
    "\n",
    "![image.png](attachment:image.png)"
   ]
  },
  {
   "cell_type": "markdown",
   "metadata": {},
   "source": [
    "- You can test this using ... ..."
   ]
  },
  {
   "cell_type": "code",
   "execution_count": 68,
   "metadata": {},
   "outputs": [],
   "source": [
    "cypher_q = \"\"\"\n",
    "    match\n",
    "        (c:GoT_Character {character_name: 'Jon Snow'})-[r:MEMBER_OF]->(g)\n",
    "    return c,r,g\n",
    "\"\"\"\n",
    "res = g.run_q(cypher_q, None)"
   ]
  },
  {
   "cell_type": "code",
   "execution_count": 69,
   "metadata": {},
   "outputs": [],
   "source": [
    "for r in res:\n",
    "    print(r[0])\n",
    "    print(r[1])\n",
    "    print(r[2])"
   ]
  },
  {
   "cell_type": "markdown",
   "metadata": {},
   "source": [
    "- The following query and code will produce a data frame of groups and characters"
   ]
  },
  {
   "cell_type": "code",
   "execution_count": 70,
   "metadata": {},
   "outputs": [],
   "source": [
    "cypher_q = \"\"\"\n",
    "    match\n",
    "        (c:GoT_Character)-[r:MEMBER_OF]->(g)\n",
    "    return c.character_name, g.group_name\n",
    "\"\"\"\n",
    "res = g.run_q(cypher_q, None)"
   ]
  },
  {
   "cell_type": "code",
   "execution_count": 71,
   "metadata": {},
   "outputs": [],
   "source": [
    "import pandas as pd"
   ]
  },
  {
   "cell_type": "code",
   "execution_count": 72,
   "metadata": {},
   "outputs": [],
   "source": [
    "df = pd.DataFrame(res)"
   ]
  },
  {
   "cell_type": "code",
   "execution_count": 73,
   "metadata": {},
   "outputs": [
    {
     "ename": "ValueError",
     "evalue": "Length mismatch: Expected axis has 0 elements, new values have 2 elements",
     "output_type": "error",
     "traceback": [
      "\u001b[0;31m---------------------------------------------------------------------------\u001b[0m",
      "\u001b[0;31mValueError\u001b[0m                                Traceback (most recent call last)",
      "\u001b[1;32m/home/sk33p34/Documents/client_/s22_w4111_hw3_3b.ipynb Cell 60'\u001b[0m in \u001b[0;36m<cell line: 1>\u001b[0;34m()\u001b[0m\n\u001b[0;32m----> <a href='vscode-notebook-cell:/home/sk33p34/Documents/client_/s22_w4111_hw3_3b.ipynb#ch0000059?line=0'>1</a>\u001b[0m df\u001b[39m.\u001b[39mcolumns \u001b[39m=\u001b[39m [\u001b[39m'\u001b[39m\u001b[39mcharacter_name\u001b[39m\u001b[39m'\u001b[39m, \u001b[39m'\u001b[39m\u001b[39mgroup_name\u001b[39m\u001b[39m'\u001b[39m]\n\u001b[1;32m      <a href='vscode-notebook-cell:/home/sk33p34/Documents/client_/s22_w4111_hw3_3b.ipynb#ch0000059?line=1'>2</a>\u001b[0m df\n",
      "File \u001b[0;32m~/.local/lib/python3.9/site-packages/pandas/core/generic.py:5588\u001b[0m, in \u001b[0;36mNDFrame.__setattr__\u001b[0;34m(self, name, value)\u001b[0m\n\u001b[1;32m   <a href='file:///home/sk33p34/.local/lib/python3.9/site-packages/pandas/core/generic.py?line=5585'>5586</a>\u001b[0m \u001b[39mtry\u001b[39;00m:\n\u001b[1;32m   <a href='file:///home/sk33p34/.local/lib/python3.9/site-packages/pandas/core/generic.py?line=5586'>5587</a>\u001b[0m     \u001b[39mobject\u001b[39m\u001b[39m.\u001b[39m\u001b[39m__getattribute__\u001b[39m(\u001b[39mself\u001b[39m, name)\n\u001b[0;32m-> <a href='file:///home/sk33p34/.local/lib/python3.9/site-packages/pandas/core/generic.py?line=5587'>5588</a>\u001b[0m     \u001b[39mreturn\u001b[39;00m \u001b[39mobject\u001b[39;49m\u001b[39m.\u001b[39;49m\u001b[39m__setattr__\u001b[39;49m(\u001b[39mself\u001b[39;49m, name, value)\n\u001b[1;32m   <a href='file:///home/sk33p34/.local/lib/python3.9/site-packages/pandas/core/generic.py?line=5588'>5589</a>\u001b[0m \u001b[39mexcept\u001b[39;00m \u001b[39mAttributeError\u001b[39;00m:\n\u001b[1;32m   <a href='file:///home/sk33p34/.local/lib/python3.9/site-packages/pandas/core/generic.py?line=5589'>5590</a>\u001b[0m     \u001b[39mpass\u001b[39;00m\n",
      "File \u001b[0;32m~/.local/lib/python3.9/site-packages/pandas/_libs/properties.pyx:70\u001b[0m, in \u001b[0;36mpandas._libs.properties.AxisProperty.__set__\u001b[0;34m()\u001b[0m\n",
      "File \u001b[0;32m~/.local/lib/python3.9/site-packages/pandas/core/generic.py:769\u001b[0m, in \u001b[0;36mNDFrame._set_axis\u001b[0;34m(self, axis, labels)\u001b[0m\n\u001b[1;32m    <a href='file:///home/sk33p34/.local/lib/python3.9/site-packages/pandas/core/generic.py?line=766'>767</a>\u001b[0m \u001b[39mdef\u001b[39;00m \u001b[39m_set_axis\u001b[39m(\u001b[39mself\u001b[39m, axis: \u001b[39mint\u001b[39m, labels: Index) \u001b[39m-\u001b[39m\u001b[39m>\u001b[39m \u001b[39mNone\u001b[39;00m:\n\u001b[1;32m    <a href='file:///home/sk33p34/.local/lib/python3.9/site-packages/pandas/core/generic.py?line=767'>768</a>\u001b[0m     labels \u001b[39m=\u001b[39m ensure_index(labels)\n\u001b[0;32m--> <a href='file:///home/sk33p34/.local/lib/python3.9/site-packages/pandas/core/generic.py?line=768'>769</a>\u001b[0m     \u001b[39mself\u001b[39;49m\u001b[39m.\u001b[39;49m_mgr\u001b[39m.\u001b[39;49mset_axis(axis, labels)\n\u001b[1;32m    <a href='file:///home/sk33p34/.local/lib/python3.9/site-packages/pandas/core/generic.py?line=769'>770</a>\u001b[0m     \u001b[39mself\u001b[39m\u001b[39m.\u001b[39m_clear_item_cache()\n",
      "File \u001b[0;32m~/.local/lib/python3.9/site-packages/pandas/core/internals/managers.py:214\u001b[0m, in \u001b[0;36mBaseBlockManager.set_axis\u001b[0;34m(self, axis, new_labels)\u001b[0m\n\u001b[1;32m    <a href='file:///home/sk33p34/.local/lib/python3.9/site-packages/pandas/core/internals/managers.py?line=211'>212</a>\u001b[0m \u001b[39mdef\u001b[39;00m \u001b[39mset_axis\u001b[39m(\u001b[39mself\u001b[39m, axis: \u001b[39mint\u001b[39m, new_labels: Index) \u001b[39m-\u001b[39m\u001b[39m>\u001b[39m \u001b[39mNone\u001b[39;00m:\n\u001b[1;32m    <a href='file:///home/sk33p34/.local/lib/python3.9/site-packages/pandas/core/internals/managers.py?line=212'>213</a>\u001b[0m     \u001b[39m# Caller is responsible for ensuring we have an Index object.\u001b[39;00m\n\u001b[0;32m--> <a href='file:///home/sk33p34/.local/lib/python3.9/site-packages/pandas/core/internals/managers.py?line=213'>214</a>\u001b[0m     \u001b[39mself\u001b[39;49m\u001b[39m.\u001b[39;49m_validate_set_axis(axis, new_labels)\n\u001b[1;32m    <a href='file:///home/sk33p34/.local/lib/python3.9/site-packages/pandas/core/internals/managers.py?line=214'>215</a>\u001b[0m     \u001b[39mself\u001b[39m\u001b[39m.\u001b[39maxes[axis] \u001b[39m=\u001b[39m new_labels\n",
      "File \u001b[0;32m~/.local/lib/python3.9/site-packages/pandas/core/internals/base.py:69\u001b[0m, in \u001b[0;36mDataManager._validate_set_axis\u001b[0;34m(self, axis, new_labels)\u001b[0m\n\u001b[1;32m     <a href='file:///home/sk33p34/.local/lib/python3.9/site-packages/pandas/core/internals/base.py?line=65'>66</a>\u001b[0m     \u001b[39mpass\u001b[39;00m\n\u001b[1;32m     <a href='file:///home/sk33p34/.local/lib/python3.9/site-packages/pandas/core/internals/base.py?line=67'>68</a>\u001b[0m \u001b[39melif\u001b[39;00m new_len \u001b[39m!=\u001b[39m old_len:\n\u001b[0;32m---> <a href='file:///home/sk33p34/.local/lib/python3.9/site-packages/pandas/core/internals/base.py?line=68'>69</a>\u001b[0m     \u001b[39mraise\u001b[39;00m \u001b[39mValueError\u001b[39;00m(\n\u001b[1;32m     <a href='file:///home/sk33p34/.local/lib/python3.9/site-packages/pandas/core/internals/base.py?line=69'>70</a>\u001b[0m         \u001b[39mf\u001b[39m\u001b[39m\"\u001b[39m\u001b[39mLength mismatch: Expected axis has \u001b[39m\u001b[39m{\u001b[39;00mold_len\u001b[39m}\u001b[39;00m\u001b[39m elements, new \u001b[39m\u001b[39m\"\u001b[39m\n\u001b[1;32m     <a href='file:///home/sk33p34/.local/lib/python3.9/site-packages/pandas/core/internals/base.py?line=70'>71</a>\u001b[0m         \u001b[39mf\u001b[39m\u001b[39m\"\u001b[39m\u001b[39mvalues have \u001b[39m\u001b[39m{\u001b[39;00mnew_len\u001b[39m}\u001b[39;00m\u001b[39m elements\u001b[39m\u001b[39m\"\u001b[39m\n\u001b[1;32m     <a href='file:///home/sk33p34/.local/lib/python3.9/site-packages/pandas/core/internals/base.py?line=71'>72</a>\u001b[0m     )\n",
      "\u001b[0;31mValueError\u001b[0m: Length mismatch: Expected axis has 0 elements, new values have 2 elements"
     ]
    }
   ],
   "source": [
    "df.columns = ['character_name', 'group_name']\n",
    "df"
   ]
  }
 ],
 "metadata": {
  "kernelspec": {
   "display_name": "Python 3 (ipykernel)",
   "language": "python",
   "name": "python3"
  },
  "language_info": {
   "codemirror_mode": {
    "name": "ipython",
    "version": 3
   },
   "file_extension": ".py",
   "mimetype": "text/x-python",
   "name": "python",
   "nbconvert_exporter": "python",
   "pygments_lexer": "ipython3",
   "version": "3.9.2"
  }
 },
 "nbformat": 4,
 "nbformat_minor": 4
}
